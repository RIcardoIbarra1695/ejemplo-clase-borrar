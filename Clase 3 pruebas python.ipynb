{
  "nbformat": 4,
  "nbformat_minor": 0,
  "metadata": {
    "colab": {
      "provenance": [],
      "authorship_tag": "ABX9TyN9+YSL/gpw8awe1cH7wcjl",
      "include_colab_link": true
    },
    "kernelspec": {
      "name": "python3",
      "display_name": "Python 3"
    },
    "language_info": {
      "name": "python"
    }
  },
  "cells": [
    {
      "cell_type": "markdown",
      "metadata": {
        "id": "view-in-github",
        "colab_type": "text"
      },
      "source": [
        "<a href=\"https://colab.research.google.com/github/RIcardoIbarra1695/ejemplo-clase-borrar/blob/main/Clase%203%20pruebas%20python.ipynb\" target=\"_parent\"><img src=\"https://colab.research.google.com/assets/colab-badge.svg\" alt=\"Open In Colab\"/></a>"
      ]
    },
    {
      "cell_type": "code",
      "execution_count": 1,
      "metadata": {
        "id": "-CFTUppGxQ0i"
      },
      "outputs": [],
      "source": [
        "from math import log"
      ]
    },
    {
      "cell_type": "code",
      "source": [
        "log (10)"
      ],
      "metadata": {
        "colab": {
          "base_uri": "https://localhost:8080/"
        },
        "id": "2jwSHzp5xRsI",
        "outputId": "4710b784-b514-4060-d2f7-96176812e7cc"
      },
      "execution_count": 2,
      "outputs": [
        {
          "output_type": "execute_result",
          "data": {
            "text/plain": [
              "2.302585092994046"
            ]
          },
          "metadata": {},
          "execution_count": 2
        }
      ]
    },
    {
      "cell_type": "code",
      "source": [
        "import math"
      ],
      "metadata": {
        "id": "U0NJ_sqKxbH2"
      },
      "execution_count": 4,
      "outputs": []
    },
    {
      "cell_type": "code",
      "source": [
        "log (100\n",
        "    )"
      ],
      "metadata": {
        "colab": {
          "base_uri": "https://localhost:8080/"
        },
        "id": "ANKmtYoixgCt",
        "outputId": "797f16ce-efc4-4bd2-c106-5820a11029ba"
      },
      "execution_count": 5,
      "outputs": [
        {
          "output_type": "execute_result",
          "data": {
            "text/plain": [
              "4.605170185988092"
            ]
          },
          "metadata": {},
          "execution_count": 5
        }
      ]
    },
    {
      "cell_type": "markdown",
      "source": [
        "# Hola amigos de DMC estoy en clase de machine learning y deep learning"
      ],
      "metadata": {
        "id": "RZ6f05DHyulK"
      }
    },
    {
      "cell_type": "code",
      "source": [
        "import time"
      ],
      "metadata": {
        "id": "mLfd9TQmy2f7"
      },
      "execution_count": 6,
      "outputs": []
    },
    {
      "cell_type": "code",
      "source": [
        "time.time ()"
      ],
      "metadata": {
        "colab": {
          "base_uri": "https://localhost:8080/"
        },
        "id": "Y3UTFOS9y6AJ",
        "outputId": "48c22932-0ee5-4792-b546-ef4e14d9166a"
      },
      "execution_count": 8,
      "outputs": [
        {
          "output_type": "execute_result",
          "data": {
            "text/plain": [
              "1677114208.6657085"
            ]
          },
          "metadata": {},
          "execution_count": 8
        }
      ]
    },
    {
      "cell_type": "code",
      "source": [
        "time.time ()"
      ],
      "metadata": {
        "colab": {
          "base_uri": "https://localhost:8080/"
        },
        "id": "Vh-j7Kd4zDFB",
        "outputId": "9bb5c637-63ef-4cb8-9e68-07db98f8f2a5"
      },
      "execution_count": 10,
      "outputs": [
        {
          "output_type": "execute_result",
          "data": {
            "text/plain": [
              "1677114246.5059524"
            ]
          },
          "metadata": {},
          "execution_count": 10
        }
      ]
    },
    {
      "cell_type": "code",
      "source": [
        "print (1677114208.6657085 - 1677114246.5059524)"
      ],
      "metadata": {
        "colab": {
          "base_uri": "https://localhost:8080/"
        },
        "id": "594H_wwXzGbh",
        "outputId": "27819a83-2d99-41b7-b4c3-fb4ea4aa2836"
      },
      "execution_count": 12,
      "outputs": [
        {
          "output_type": "stream",
          "name": "stdout",
          "text": [
            "-37.84024381637573\n"
          ]
        }
      ]
    },
    {
      "cell_type": "code",
      "source": [
        "print (\"el tiempo de demora del proceso es 1677114246.5059524 - 1677114208.6657085 segundos\")"
      ],
      "metadata": {
        "colab": {
          "base_uri": "https://localhost:8080/"
        },
        "outputId": "ddad3138-d6a8-4961-e2e7-81c73d678272",
        "id": "stjz5rB-zMYv"
      },
      "execution_count": 14,
      "outputs": [
        {
          "output_type": "stream",
          "name": "stdout",
          "text": [
            "el tiempo de demora del proceso es 1677114246.5059524 - 1677114208.6657085 segundos\n"
          ]
        }
      ]
    },
    {
      "cell_type": "code",
      "source": [
        "start = time.time ()\n",
        "print('proceso')\n",
        "time_elapsed = time.time () - start\n",
        "print (f\"el tiempo de demora del proceso es {time_elapsed} segundos\")"
      ],
      "metadata": {
        "colab": {
          "base_uri": "https://localhost:8080/"
        },
        "id": "1ZqXdKb918RH",
        "outputId": "08fda0bd-a836-49e2-ed93-fbb6c651eaf8"
      },
      "execution_count": 17,
      "outputs": [
        {
          "output_type": "stream",
          "name": "stdout",
          "text": [
            "proceso\n",
            "el tiempo de demora del proceso es 0.00015234947204589844 segundos\n"
          ]
        }
      ]
    },
    {
      "cell_type": "code",
      "source": [
        "print (\"\\n hola soy \\n goku\")"
      ],
      "metadata": {
        "colab": {
          "base_uri": "https://localhost:8080/"
        },
        "id": "zMHbxUst3-69",
        "outputId": "3c22c49e-0ec2-48dd-e50d-ed948de73660"
      },
      "execution_count": 20,
      "outputs": [
        {
          "output_type": "stream",
          "name": "stdout",
          "text": [
            "\n",
            " hola soy \n",
            " goku\n"
          ]
        }
      ]
    },
    {
      "cell_type": "code",
      "source": [
        "ESTRUCTURAS EN PYTHON"
      ],
      "metadata": {
        "id": "cXCUeY_a5ddM"
      },
      "execution_count": null,
      "outputs": []
    }
  ]
}