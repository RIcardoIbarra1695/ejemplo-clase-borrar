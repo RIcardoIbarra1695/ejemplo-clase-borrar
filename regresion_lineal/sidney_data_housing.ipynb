{
  "nbformat": 4,
  "nbformat_minor": 0,
  "metadata": {
    "colab": {
      "provenance": [],
      "include_colab_link": true
    },
    "kernelspec": {
      "name": "python3",
      "display_name": "Python 3"
    },
    "language_info": {
      "name": "python"
    }
  },
  "cells": [
    {
      "cell_type": "markdown",
      "metadata": {
        "id": "view-in-github",
        "colab_type": "text"
      },
      "source": [
        "<a href=\"https://colab.research.google.com/github/RIcardoIbarra1695/ejemplo-clase-borrar/blob/main/regresion_lineal/sidney_data_housing.ipynb\" target=\"_parent\"><img src=\"https://colab.research.google.com/assets/colab-badge.svg\" alt=\"Open In Colab\"/></a>"
      ]
    },
    {
      "cell_type": "markdown",
      "source": [
        "## Importando librerías"
      ],
      "metadata": {
        "id": "uMCcWc-8Wwqf"
      }
    },
    {
      "cell_type": "code",
      "execution_count": null,
      "metadata": {
        "id": "zXIQJVamQjN-"
      },
      "outputs": [],
      "source": [
        "import pandas as pd\n",
        "import seaborn as sns\n",
        "import numpy as np\n",
        "import matplotlib.pyplot as plt\n"
      ]
    },
    {
      "cell_type": "markdown",
      "source": [
        "## Leyendo data"
      ],
      "metadata": {
        "id": "IzQrgrdfW0HG"
      }
    },
    {
      "cell_type": "code",
      "source": [
        "\n",
        "pddf = pd.read_csv('house_price_data.csv')\n",
        "target = 'price'"
      ],
      "metadata": {
        "id": "jjQ8XAKWQ6-v"
      },
      "execution_count": null,
      "outputs": []
    },
    {
      "cell_type": "code",
      "source": [
        "pddf.head()"
      ],
      "metadata": {
        "id": "AKcRBT_ZWc5S",
        "outputId": "dbb3da91-bbc6-4e3f-8ebe-919250e36b3a",
        "colab": {
          "base_uri": "https://localhost:8080/",
          "height": 461
        }
      },
      "execution_count": null,
      "outputs": [
        {
          "output_type": "execute_result",
          "data": {
            "text/plain": [
              "                  date      price  bedrooms  bathrooms  sqft_living  sqft_lot  \\\n",
              "0  2014-05-02 00:00:00   313000.0       3.0       1.50         1340      7912   \n",
              "1  2014-05-02 00:00:00  2384000.0       5.0       2.50         3650      9050   \n",
              "2  2014-05-02 00:00:00   342000.0       3.0       2.00         1930     11947   \n",
              "3  2014-05-02 00:00:00   420000.0       3.0       2.25         2000      8030   \n",
              "4  2014-05-02 00:00:00   550000.0       4.0       2.50         1940     10500   \n",
              "\n",
              "   floors  waterfront  view  condition  sqft_above  sqft_basement  yr_built  \\\n",
              "0     1.5           0     0          3        1340              0      1955   \n",
              "1     2.0           0     4          5        3370            280      1921   \n",
              "2     1.0           0     0          4        1930              0      1966   \n",
              "3     1.0           0     0          4        1000           1000      1963   \n",
              "4     1.0           0     0          4        1140            800      1976   \n",
              "\n",
              "   yr_renovated                    street       city  statezip country  \n",
              "0          2005      18810 Densmore Ave N  Shoreline  WA 98133     USA  \n",
              "1             0           709 W Blaine St    Seattle  WA 98119     USA  \n",
              "2             0  26206-26214 143rd Ave SE       Kent  WA 98042     USA  \n",
              "3             0           857 170th Pl NE   Bellevue  WA 98008     USA  \n",
              "4          1992         9105 170th Ave NE    Redmond  WA 98052     USA  "
            ],
            "text/html": [
              "\n",
              "  <div id=\"df-1d9672c2-1dd7-4cf7-b7a3-24416a2f9bed\">\n",
              "    <div class=\"colab-df-container\">\n",
              "      <div>\n",
              "<style scoped>\n",
              "    .dataframe tbody tr th:only-of-type {\n",
              "        vertical-align: middle;\n",
              "    }\n",
              "\n",
              "    .dataframe tbody tr th {\n",
              "        vertical-align: top;\n",
              "    }\n",
              "\n",
              "    .dataframe thead th {\n",
              "        text-align: right;\n",
              "    }\n",
              "</style>\n",
              "<table border=\"1\" class=\"dataframe\">\n",
              "  <thead>\n",
              "    <tr style=\"text-align: right;\">\n",
              "      <th></th>\n",
              "      <th>date</th>\n",
              "      <th>price</th>\n",
              "      <th>bedrooms</th>\n",
              "      <th>bathrooms</th>\n",
              "      <th>sqft_living</th>\n",
              "      <th>sqft_lot</th>\n",
              "      <th>floors</th>\n",
              "      <th>waterfront</th>\n",
              "      <th>view</th>\n",
              "      <th>condition</th>\n",
              "      <th>sqft_above</th>\n",
              "      <th>sqft_basement</th>\n",
              "      <th>yr_built</th>\n",
              "      <th>yr_renovated</th>\n",
              "      <th>street</th>\n",
              "      <th>city</th>\n",
              "      <th>statezip</th>\n",
              "      <th>country</th>\n",
              "    </tr>\n",
              "  </thead>\n",
              "  <tbody>\n",
              "    <tr>\n",
              "      <th>0</th>\n",
              "      <td>2014-05-02 00:00:00</td>\n",
              "      <td>313000.0</td>\n",
              "      <td>3.0</td>\n",
              "      <td>1.50</td>\n",
              "      <td>1340</td>\n",
              "      <td>7912</td>\n",
              "      <td>1.5</td>\n",
              "      <td>0</td>\n",
              "      <td>0</td>\n",
              "      <td>3</td>\n",
              "      <td>1340</td>\n",
              "      <td>0</td>\n",
              "      <td>1955</td>\n",
              "      <td>2005</td>\n",
              "      <td>18810 Densmore Ave N</td>\n",
              "      <td>Shoreline</td>\n",
              "      <td>WA 98133</td>\n",
              "      <td>USA</td>\n",
              "    </tr>\n",
              "    <tr>\n",
              "      <th>1</th>\n",
              "      <td>2014-05-02 00:00:00</td>\n",
              "      <td>2384000.0</td>\n",
              "      <td>5.0</td>\n",
              "      <td>2.50</td>\n",
              "      <td>3650</td>\n",
              "      <td>9050</td>\n",
              "      <td>2.0</td>\n",
              "      <td>0</td>\n",
              "      <td>4</td>\n",
              "      <td>5</td>\n",
              "      <td>3370</td>\n",
              "      <td>280</td>\n",
              "      <td>1921</td>\n",
              "      <td>0</td>\n",
              "      <td>709 W Blaine St</td>\n",
              "      <td>Seattle</td>\n",
              "      <td>WA 98119</td>\n",
              "      <td>USA</td>\n",
              "    </tr>\n",
              "    <tr>\n",
              "      <th>2</th>\n",
              "      <td>2014-05-02 00:00:00</td>\n",
              "      <td>342000.0</td>\n",
              "      <td>3.0</td>\n",
              "      <td>2.00</td>\n",
              "      <td>1930</td>\n",
              "      <td>11947</td>\n",
              "      <td>1.0</td>\n",
              "      <td>0</td>\n",
              "      <td>0</td>\n",
              "      <td>4</td>\n",
              "      <td>1930</td>\n",
              "      <td>0</td>\n",
              "      <td>1966</td>\n",
              "      <td>0</td>\n",
              "      <td>26206-26214 143rd Ave SE</td>\n",
              "      <td>Kent</td>\n",
              "      <td>WA 98042</td>\n",
              "      <td>USA</td>\n",
              "    </tr>\n",
              "    <tr>\n",
              "      <th>3</th>\n",
              "      <td>2014-05-02 00:00:00</td>\n",
              "      <td>420000.0</td>\n",
              "      <td>3.0</td>\n",
              "      <td>2.25</td>\n",
              "      <td>2000</td>\n",
              "      <td>8030</td>\n",
              "      <td>1.0</td>\n",
              "      <td>0</td>\n",
              "      <td>0</td>\n",
              "      <td>4</td>\n",
              "      <td>1000</td>\n",
              "      <td>1000</td>\n",
              "      <td>1963</td>\n",
              "      <td>0</td>\n",
              "      <td>857 170th Pl NE</td>\n",
              "      <td>Bellevue</td>\n",
              "      <td>WA 98008</td>\n",
              "      <td>USA</td>\n",
              "    </tr>\n",
              "    <tr>\n",
              "      <th>4</th>\n",
              "      <td>2014-05-02 00:00:00</td>\n",
              "      <td>550000.0</td>\n",
              "      <td>4.0</td>\n",
              "      <td>2.50</td>\n",
              "      <td>1940</td>\n",
              "      <td>10500</td>\n",
              "      <td>1.0</td>\n",
              "      <td>0</td>\n",
              "      <td>0</td>\n",
              "      <td>4</td>\n",
              "      <td>1140</td>\n",
              "      <td>800</td>\n",
              "      <td>1976</td>\n",
              "      <td>1992</td>\n",
              "      <td>9105 170th Ave NE</td>\n",
              "      <td>Redmond</td>\n",
              "      <td>WA 98052</td>\n",
              "      <td>USA</td>\n",
              "    </tr>\n",
              "  </tbody>\n",
              "</table>\n",
              "</div>\n",
              "      <button class=\"colab-df-convert\" onclick=\"convertToInteractive('df-1d9672c2-1dd7-4cf7-b7a3-24416a2f9bed')\"\n",
              "              title=\"Convert this dataframe to an interactive table.\"\n",
              "              style=\"display:none;\">\n",
              "        \n",
              "  <svg xmlns=\"http://www.w3.org/2000/svg\" height=\"24px\"viewBox=\"0 0 24 24\"\n",
              "       width=\"24px\">\n",
              "    <path d=\"M0 0h24v24H0V0z\" fill=\"none\"/>\n",
              "    <path d=\"M18.56 5.44l.94 2.06.94-2.06 2.06-.94-2.06-.94-.94-2.06-.94 2.06-2.06.94zm-11 1L8.5 8.5l.94-2.06 2.06-.94-2.06-.94L8.5 2.5l-.94 2.06-2.06.94zm10 10l.94 2.06.94-2.06 2.06-.94-2.06-.94-.94-2.06-.94 2.06-2.06.94z\"/><path d=\"M17.41 7.96l-1.37-1.37c-.4-.4-.92-.59-1.43-.59-.52 0-1.04.2-1.43.59L10.3 9.45l-7.72 7.72c-.78.78-.78 2.05 0 2.83L4 21.41c.39.39.9.59 1.41.59.51 0 1.02-.2 1.41-.59l7.78-7.78 2.81-2.81c.8-.78.8-2.07 0-2.86zM5.41 20L4 18.59l7.72-7.72 1.47 1.35L5.41 20z\"/>\n",
              "  </svg>\n",
              "      </button>\n",
              "      \n",
              "  <style>\n",
              "    .colab-df-container {\n",
              "      display:flex;\n",
              "      flex-wrap:wrap;\n",
              "      gap: 12px;\n",
              "    }\n",
              "\n",
              "    .colab-df-convert {\n",
              "      background-color: #E8F0FE;\n",
              "      border: none;\n",
              "      border-radius: 50%;\n",
              "      cursor: pointer;\n",
              "      display: none;\n",
              "      fill: #1967D2;\n",
              "      height: 32px;\n",
              "      padding: 0 0 0 0;\n",
              "      width: 32px;\n",
              "    }\n",
              "\n",
              "    .colab-df-convert:hover {\n",
              "      background-color: #E2EBFA;\n",
              "      box-shadow: 0px 1px 2px rgba(60, 64, 67, 0.3), 0px 1px 3px 1px rgba(60, 64, 67, 0.15);\n",
              "      fill: #174EA6;\n",
              "    }\n",
              "\n",
              "    [theme=dark] .colab-df-convert {\n",
              "      background-color: #3B4455;\n",
              "      fill: #D2E3FC;\n",
              "    }\n",
              "\n",
              "    [theme=dark] .colab-df-convert:hover {\n",
              "      background-color: #434B5C;\n",
              "      box-shadow: 0px 1px 3px 1px rgba(0, 0, 0, 0.15);\n",
              "      filter: drop-shadow(0px 1px 2px rgba(0, 0, 0, 0.3));\n",
              "      fill: #FFFFFF;\n",
              "    }\n",
              "  </style>\n",
              "\n",
              "      <script>\n",
              "        const buttonEl =\n",
              "          document.querySelector('#df-1d9672c2-1dd7-4cf7-b7a3-24416a2f9bed button.colab-df-convert');\n",
              "        buttonEl.style.display =\n",
              "          google.colab.kernel.accessAllowed ? 'block' : 'none';\n",
              "\n",
              "        async function convertToInteractive(key) {\n",
              "          const element = document.querySelector('#df-1d9672c2-1dd7-4cf7-b7a3-24416a2f9bed');\n",
              "          const dataTable =\n",
              "            await google.colab.kernel.invokeFunction('convertToInteractive',\n",
              "                                                     [key], {});\n",
              "          if (!dataTable) return;\n",
              "\n",
              "          const docLinkHtml = 'Like what you see? Visit the ' +\n",
              "            '<a target=\"_blank\" href=https://colab.research.google.com/notebooks/data_table.ipynb>data table notebook</a>'\n",
              "            + ' to learn more about interactive tables.';\n",
              "          element.innerHTML = '';\n",
              "          dataTable['output_type'] = 'display_data';\n",
              "          await google.colab.output.renderOutput(dataTable, element);\n",
              "          const docLink = document.createElement('div');\n",
              "          docLink.innerHTML = docLinkHtml;\n",
              "          element.appendChild(docLink);\n",
              "        }\n",
              "      </script>\n",
              "    </div>\n",
              "  </div>\n",
              "  "
            ]
          },
          "metadata": {},
          "execution_count": 5
        }
      ]
    },
    {
      "cell_type": "code",
      "source": [
        "#Creamos variables de antiguedad\n",
        "pddf['year'] = pddf.date.apply(lambda x: int(x[:4]))\n",
        "pddf['ant_built'] = pddf.year - pddf.yr_built\n",
        "pddf['ant_renovated'] = pddf.year - pddf.yr_renovated.apply(lambda x: None if x == 0 else x)\n"
      ],
      "metadata": {
        "id": "dtUUYW5fAX02"
      },
      "execution_count": null,
      "outputs": []
    },
    {
      "cell_type": "code",
      "source": [
        "pddf.ant_built.hist()"
      ],
      "metadata": {
        "colab": {
          "base_uri": "https://localhost:8080/",
          "height": 282
        },
        "id": "xYPeuxvK_5j0",
        "outputId": "b86ebd04-10c4-467a-d7e2-3be39f6814b9"
      },
      "execution_count": null,
      "outputs": [
        {
          "output_type": "execute_result",
          "data": {
            "text/plain": [
              "<AxesSubplot:>"
            ]
          },
          "metadata": {},
          "execution_count": 8
        },
        {
          "output_type": "display_data",
          "data": {
            "text/plain": [
              "<Figure size 432x288 with 1 Axes>"
            ],
            "image/png": "[encoded data removed]"
          },
          "metadata": {
            "needs_background": "light"
          }
        }
      ]
    },
    {
      "cell_type": "code",
      "source": [
        "# Este código selecciona las columnas de tipo categóricas\n",
        "pddf.select_dtypes(include = 'object').columns.tolist()\n"
      ],
      "metadata": {
        "colab": {
          "base_uri": "https://localhost:8080/"
        },
        "id": "5Nx9OkYcCKSb",
        "outputId": "36692490-09f4-48d0-db15-696fb7aa1988"
      },
      "execution_count": null,
      "outputs": [
        {
          "output_type": "execute_result",
          "data": {
            "text/plain": [
              "['date', 'street', 'city', 'statezip', 'country']"
            ]
          },
          "metadata": {},
          "execution_count": 23
        }
      ]
    },
    {
      "cell_type": "code",
      "source": [
        "\n",
        "tot_feats = pddf.columns.tolist() #Todas las columnas del dataset\n",
        "rmv_feats = ['price', 'year', 'yr_built', 'yr_renovated'] #Variables que no nos hacen sentido de incluir\n",
        "cat_feats = pddf.select_dtypes(include = 'object').columns.tolist() #Variables categóricas\n",
        "\n",
        "features = list(set(tot_feats) - set(rmv_feats + cat_feats))\n",
        "data = pddf[features + [target]]\n"
      ],
      "metadata": {
        "id": "b3DoT6RNByv1"
      },
      "execution_count": null,
      "outputs": []
    },
    {
      "cell_type": "code",
      "source": [
        "data.head()"
      ],
      "metadata": {
        "id": "DBbDSgUpYvx3",
        "outputId": "3a68e5a1-aaa8-4270-f204-9648ddee335d",
        "colab": {
          "base_uri": "https://localhost:8080/",
          "height": 206
        }
      },
      "execution_count": null,
      "outputs": [
        {
          "output_type": "execute_result",
          "data": {
            "text/plain": [
              "   sqft_above  bathrooms  ant_built  bedrooms  sqft_living  sqft_lot  \\\n",
              "0        1340       1.50         59       3.0         1340      7912   \n",
              "1        3370       2.50         93       5.0         3650      9050   \n",
              "2        1930       2.00         48       3.0         1930     11947   \n",
              "3        1000       2.25         51       3.0         2000      8030   \n",
              "4        1140       2.50         38       4.0         1940     10500   \n",
              "\n",
              "   ant_renovated  waterfront  floors  sqft_basement  condition  view  \\\n",
              "0            9.0           0     1.5              0          3     0   \n",
              "1            NaN           0     2.0            280          5     4   \n",
              "2            NaN           0     1.0              0          4     0   \n",
              "3            NaN           0     1.0           1000          4     0   \n",
              "4           22.0           0     1.0            800          4     0   \n",
              "\n",
              "       price  \n",
              "0   313000.0  \n",
              "1  2384000.0  \n",
              "2   342000.0  \n",
              "3   420000.0  \n",
              "4   550000.0  "
            ],
            "text/html": [
              "\n",
              "  <div id=\"df-0366222a-e543-4685-bddc-8625439a4efd\">\n",
              "    <div class=\"colab-df-container\">\n",
              "      <div>\n",
              "<style scoped>\n",
              "    .dataframe tbody tr th:only-of-type {\n",
              "        vertical-align: middle;\n",
              "    }\n",
              "\n",
              "    .dataframe tbody tr th {\n",
              "        vertical-align: top;\n",
              "    }\n",
              "\n",
              "    .dataframe thead th {\n",
              "        text-align: right;\n",
              "    }\n",
              "</style>\n",
              "<table border=\"1\" class=\"dataframe\">\n",
              "  <thead>\n",
              "    <tr style=\"text-align: right;\">\n",
              "      <th></th>\n",
              "      <th>sqft_above</th>\n",
              "      <th>bathrooms</th>\n",
              "      <th>ant_built</th>\n",
              "      <th>bedrooms</th>\n",
              "      <th>sqft_living</th>\n",
              "      <th>sqft_lot</th>\n",
              "      <th>ant_renovated</th>\n",
              "      <th>waterfront</th>\n",
              "      <th>floors</th>\n",
              "      <th>sqft_basement</th>\n",
              "      <th>condition</th>\n",
              "      <th>view</th>\n",
              "      <th>price</th>\n",
              "    </tr>\n",
              "  </thead>\n",
              "  <tbody>\n",
              "    <tr>\n",
              "      <th>0</th>\n",
              "      <td>1340</td>\n",
              "      <td>1.50</td>\n",
              "      <td>59</td>\n",
              "      <td>3.0</td>\n",
              "      <td>1340</td>\n",
              "      <td>7912</td>\n",
              "      <td>9.0</td>\n",
              "      <td>0</td>\n",
              "      <td>1.5</td>\n",
              "      <td>0</td>\n",
              "      <td>3</td>\n",
              "      <td>0</td>\n",
              "      <td>313000.0</td>\n",
              "    </tr>\n",
              "    <tr>\n",
              "      <th>1</th>\n",
              "      <td>3370</td>\n",
              "      <td>2.50</td>\n",
              "      <td>93</td>\n",
              "      <td>5.0</td>\n",
              "      <td>3650</td>\n",
              "      <td>9050</td>\n",
              "      <td>NaN</td>\n",
              "      <td>0</td>\n",
              "      <td>2.0</td>\n",
              "      <td>280</td>\n",
              "      <td>5</td>\n",
              "      <td>4</td>\n",
              "      <td>2384000.0</td>\n",
              "    </tr>\n",
              "    <tr>\n",
              "      <th>2</th>\n",
              "      <td>1930</td>\n",
              "      <td>2.00</td>\n",
              "      <td>48</td>\n",
              "      <td>3.0</td>\n",
              "      <td>1930</td>\n",
              "      <td>11947</td>\n",
              "      <td>NaN</td>\n",
              "      <td>0</td>\n",
              "      <td>1.0</td>\n",
              "      <td>0</td>\n",
              "      <td>4</td>\n",
              "      <td>0</td>\n",
              "      <td>342000.0</td>\n",
              "    </tr>\n",
              "    <tr>\n",
              "      <th>3</th>\n",
              "      <td>1000</td>\n",
              "      <td>2.25</td>\n",
              "      <td>51</td>\n",
              "      <td>3.0</td>\n",
              "      <td>2000</td>\n",
              "      <td>8030</td>\n",
              "      <td>NaN</td>\n",
              "      <td>0</td>\n",
              "      <td>1.0</td>\n",
              "      <td>1000</td>\n",
              "      <td>4</td>\n",
              "      <td>0</td>\n",
              "      <td>420000.0</td>\n",
              "    </tr>\n",
              "    <tr>\n",
              "      <th>4</th>\n",
              "      <td>1140</td>\n",
              "      <td>2.50</td>\n",
              "      <td>38</td>\n",
              "      <td>4.0</td>\n",
              "      <td>1940</td>\n",
              "      <td>10500</td>\n",
              "      <td>22.0</td>\n",
              "      <td>0</td>\n",
              "      <td>1.0</td>\n",
              "      <td>800</td>\n",
              "      <td>4</td>\n",
              "      <td>0</td>\n",
              "      <td>550000.0</td>\n",
              "    </tr>\n",
              "  </tbody>\n",
              "</table>\n",
              "</div>\n",
              "      <button class=\"colab-df-convert\" onclick=\"convertToInteractive('df-0366222a-e543-4685-bddc-8625439a4efd')\"\n",
              "              title=\"Convert this dataframe to an interactive table.\"\n",
              "              style=\"display:none;\">\n",
              "        \n",
              "  <svg xmlns=\"http://www.w3.org/2000/svg\" height=\"24px\"viewBox=\"0 0 24 24\"\n",
              "       width=\"24px\">\n",
              "    <path d=\"M0 0h24v24H0V0z\" fill=\"none\"/>\n",
              "    <path d=\"M18.56 5.44l.94 2.06.94-2.06 2.06-.94-2.06-.94-.94-2.06-.94 2.06-2.06.94zm-11 1L8.5 8.5l.94-2.06 2.06-.94-2.06-.94L8.5 2.5l-.94 2.06-2.06.94zm10 10l.94 2.06.94-2.06 2.06-.94-2.06-.94-.94-2.06-.94 2.06-2.06.94z\"/><path d=\"M17.41 7.96l-1.37-1.37c-.4-.4-.92-.59-1.43-.59-.52 0-1.04.2-1.43.59L10.3 9.45l-7.72 7.72c-.78.78-.78 2.05 0 2.83L4 21.41c.39.39.9.59 1.41.59.51 0 1.02-.2 1.41-.59l7.78-7.78 2.81-2.81c.8-.78.8-2.07 0-2.86zM5.41 20L4 18.59l7.72-7.72 1.47 1.35L5.41 20z\"/>\n",
              "  </svg>\n",
              "      </button>\n",
              "      \n",
              "  <style>\n",
              "    .colab-df-container {\n",
              "      display:flex;\n",
              "      flex-wrap:wrap;\n",
              "      gap: 12px;\n",
              "    }\n",
              "\n",
              "    .colab-df-convert {\n",
              "      background-color: #E8F0FE;\n",
              "      border: none;\n",
              "      border-radius: 50%;\n",
              "      cursor: pointer;\n",
              "      display: none;\n",
              "      fill: #1967D2;\n",
              "      height: 32px;\n",
              "      padding: 0 0 0 0;\n",
              "      width: 32px;\n",
              "    }\n",
              "\n",
              "    .colab-df-convert:hover {\n",
              "      background-color: #E2EBFA;\n",
              "      box-shadow: 0px 1px 2px rgba(60, 64, 67, 0.3), 0px 1px 3px 1px rgba(60, 64, 67, 0.15);\n",
              "      fill: #174EA6;\n",
              "    }\n",
              "\n",
              "    [theme=dark] .colab-df-convert {\n",
              "      background-color: #3B4455;\n",
              "      fill: #D2E3FC;\n",
              "    }\n",
              "\n",
              "    [theme=dark] .colab-df-convert:hover {\n",
              "      background-color: #434B5C;\n",
              "      box-shadow: 0px 1px 3px 1px rgba(0, 0, 0, 0.15);\n",
              "      filter: drop-shadow(0px 1px 2px rgba(0, 0, 0, 0.3));\n",
              "      fill: #FFFFFF;\n",
              "    }\n",
              "  </style>\n",
              "\n",
              "      <script>\n",
              "        const buttonEl =\n",
              "          document.querySelector('#df-0366222a-e543-4685-bddc-8625439a4efd button.colab-df-convert');\n",
              "        buttonEl.style.display =\n",
              "          google.colab.kernel.accessAllowed ? 'block' : 'none';\n",
              "\n",
              "        async function convertToInteractive(key) {\n",
              "          const element = document.querySelector('#df-0366222a-e543-4685-bddc-8625439a4efd');\n",
              "          const dataTable =\n",
              "            await google.colab.kernel.invokeFunction('convertToInteractive',\n",
              "                                                     [key], {});\n",
              "          if (!dataTable) return;\n",
              "\n",
              "          const docLinkHtml = 'Like what you see? Visit the ' +\n",
              "            '<a target=\"_blank\" href=https://colab.research.google.com/notebooks/data_table.ipynb>data table notebook</a>'\n",
              "            + ' to learn more about interactive tables.';\n",
              "          element.innerHTML = '';\n",
              "          dataTable['output_type'] = 'display_data';\n",
              "          await google.colab.output.renderOutput(dataTable, element);\n",
              "          const docLink = document.createElement('div');\n",
              "          docLink.innerHTML = docLinkHtml;\n",
              "          element.appendChild(docLink);\n",
              "        }\n",
              "      </script>\n",
              "    </div>\n",
              "  </div>\n",
              "  "
            ]
          },
          "metadata": {},
          "execution_count": 33
        }
      ]
    },
    {
      "cell_type": "markdown",
      "source": [
        "## 2. Selección de muestras"
      ],
      "metadata": {
        "id": "NvQU2m4yVZWV"
      }
    },
    {
      "cell_type": "code",
      "source": [
        "# Muestreo\n",
        "\n",
        "from sklearn.model_selection import train_test_split\n",
        "\n",
        "train, test = train_test_split(data, \n",
        "                               train_size = 0.7, \n",
        "                               random_state = 123)\n"
      ],
      "metadata": {
        "id": "QpOqR19FVb2u"
      },
      "execution_count": null,
      "outputs": []
    },
    {
      "cell_type": "code",
      "source": [
        "print(f\"Total data size: {data.shape}\")\n",
        "print(f\"Total train size: {train.shape}\")\n",
        "print(f\"Total test size: {test.shape}\")"
      ],
      "metadata": {
        "id": "URSJ4M8AYND1",
        "outputId": "cc5652d0-12dd-4ca6-c353-c8f26f7df596",
        "colab": {
          "base_uri": "https://localhost:8080/"
        }
      },
      "execution_count": null,
      "outputs": [
        {
          "output_type": "stream",
          "name": "stdout",
          "text": [
            "Total data size: (4600, 13)\n",
            "Total train size: (3220, 13)\n",
            "Total test size: (1380, 13)\n"
          ]
        }
      ]
    },
    {
      "cell_type": "markdown",
      "source": [
        "## Analisis univariado y tratamiento de datos"
      ],
      "metadata": {
        "id": "shcvuTU28TKd"
      }
    },
    {
      "cell_type": "code",
      "source": [
        "# Creando métricas de las variables\n",
        "\n",
        "univariate = train.describe().transpose()\n",
        "univariate.reset_index(inplace = True)\n",
        "univariate.rename(columns = {'index':'feature',\n",
        "                             '25%': 'Q1',\n",
        "                             '50%': 'median',\n",
        "                             '75%': 'Q3'}, inplace = True)\n",
        "\n",
        "univariate[['missing_rate']] = 1 - univariate[['count']]/train.shape[0]\n",
        "univariate.sort_values(by = 'missing_rate', ascending = False, inplace = True)"
      ],
      "metadata": {
        "id": "3NYvEVjc7F3O"
      },
      "execution_count": null,
      "outputs": []
    },
    {
      "cell_type": "code",
      "source": [
        "corr_matrix = train.corr()\n",
        "corr_matrix.reset_index(inplace = True)\n",
        "corr_matrix.rename(columns = {'index': 'feature', target: 'correl'}, inplace = True)\n",
        "univariate_II = pd.merge(univariate, corr_matrix[['feature', 'correl']], on = 'feature', how = 'left') \n",
        "univariate_II['correl_abs'] = univariate_II.correl.apply(lambda x: abs(x))\n",
        "univariate_II.sort_values(by = 'correl_abs', ascending = False, inplace = True)\n",
        "univariate_II.head(20)"
      ],
      "metadata": {
        "colab": {
          "base_uri": "https://localhost:8080/",
          "height": 521
        },
        "id": "WV3dz8j-90e0",
        "outputId": "63a66e12-7886-4e52-99b6-ea62e029d554"
      },
      "execution_count": 55,
      "outputs": [
        {
          "output_type": "execute_result",
          "data": {
            "text/plain": [
              "          feature   count           mean            std    min             Q1  \\\n",
              "12          price  3220.0  553651.285167  616584.094342    0.0  326482.142857   \n",
              "2     sqft_living  3220.0    2146.758075     942.165622  370.0    1480.000000   \n",
              "6      sqft_above  3220.0    1831.705590     853.555534  370.0    1200.000000   \n",
              "1       bathrooms  3220.0       2.169255       0.772937    0.0       1.750000   \n",
              "11           view  3220.0       0.240994       0.777716    0.0       0.000000   \n",
              "8   sqft_basement  3220.0     315.052484     466.482374    0.0       0.000000   \n",
              "5        bedrooms  3220.0       3.411801       0.908000    0.0       3.000000   \n",
              "3          floors  3220.0       1.510870       0.539988    1.0       1.000000   \n",
              "10     waterfront  3220.0       0.006522       0.080506    0.0       0.000000   \n",
              "7        sqft_lot  3220.0   15021.657764   33898.239766  638.0    5040.000000   \n",
              "4       condition  3220.0       3.456832       0.682402    1.0       3.000000   \n",
              "0   ant_renovated  1304.0      19.449387      21.469081    0.0       8.000000   \n",
              "9       ant_built  3220.0      43.188199      29.748077    0.0      17.000000   \n",
              "\n",
              "       median         Q3         max  missing_rate    correl  correl_abs  \n",
              "12  466650.00  650000.00  26590000.0      0.000000  1.000000    1.000000  \n",
              "2     2000.00    2630.00     13540.0      0.000000  0.359312    0.359312  \n",
              "6     1600.00    2300.75      9410.0      0.000000  0.304910    0.304910  \n",
              "1        2.25       2.50         8.0      0.000000  0.277816    0.277816  \n",
              "11       0.00       0.00         4.0      0.000000  0.191981    0.191981  \n",
              "8        0.00     620.00      4820.0      0.000000  0.167796    0.167796  \n",
              "5        3.00       4.00         9.0      0.000000  0.160660    0.160660  \n",
              "3        1.50       2.00         3.5      0.000000  0.122128    0.122128  \n",
              "10       0.00       0.00         1.0      0.000000  0.089515    0.089515  \n",
              "7     7730.00   11071.25    641203.0      0.000000  0.045688    0.045688  \n",
              "4        3.00       4.00         5.0      0.000000  0.030125    0.030125  \n",
              "0       13.00      22.00       102.0      0.595031  0.027986    0.027986  \n",
              "9       38.00      63.00       114.0      0.000000 -0.023691    0.023691  "
            ],
            "text/html": [
              "\n",
              "  <div id=\"df-98e8accf-f83a-4690-b501-5d6d84009c96\">\n",
              "    <div class=\"colab-df-container\">\n",
              "      <div>\n",
              "<style scoped>\n",
              "    .dataframe tbody tr th:only-of-type {\n",
              "        vertical-align: middle;\n",
              "    }\n",
              "\n",
              "    .dataframe tbody tr th {\n",
              "        vertical-align: top;\n",
              "    }\n",
              "\n",
              "    .dataframe thead th {\n",
              "        text-align: right;\n",
              "    }\n",
              "</style>\n",
              "<table border=\"1\" class=\"dataframe\">\n",
              "  <thead>\n",
              "    <tr style=\"text-align: right;\">\n",
              "      <th></th>\n",
              "      <th>feature</th>\n",
              "      <th>count</th>\n",
              "      <th>mean</th>\n",
              "      <th>std</th>\n",
              "      <th>min</th>\n",
              "      <th>Q1</th>\n",
              "      <th>median</th>\n",
              "      <th>Q3</th>\n",
              "      <th>max</th>\n",
              "      <th>missing_rate</th>\n",
              "      <th>correl</th>\n",
              "      <th>correl_abs</th>\n",
              "    </tr>\n",
              "  </thead>\n",
              "  <tbody>\n",
              "    <tr>\n",
              "      <th>12</th>\n",
              "      <td>price</td>\n",
              "      <td>3220.0</td>\n",
              "      <td>553651.285167</td>\n",
              "      <td>616584.094342</td>\n",
              "      <td>0.0</td>\n",
              "      <td>326482.142857</td>\n",
              "      <td>466650.00</td>\n",
              "      <td>650000.00</td>\n",
              "      <td>26590000.0</td>\n",
              "      <td>0.000000</td>\n",
              "      <td>1.000000</td>\n",
              "      <td>1.000000</td>\n",
              "    </tr>\n",
              "    <tr>\n",
              "      <th>2</th>\n",
              "      <td>sqft_living</td>\n",
              "      <td>3220.0</td>\n",
              "      <td>2146.758075</td>\n",
              "      <td>942.165622</td>\n",
              "      <td>370.0</td>\n",
              "      <td>1480.000000</td>\n",
              "      <td>2000.00</td>\n",
              "      <td>2630.00</td>\n",
              "      <td>13540.0</td>\n",
              "      <td>0.000000</td>\n",
              "      <td>0.359312</td>\n",
              "      <td>0.359312</td>\n",
              "    </tr>\n",
              "    <tr>\n",
              "      <th>6</th>\n",
              "      <td>sqft_above</td>\n",
              "      <td>3220.0</td>\n",
              "      <td>1831.705590</td>\n",
              "      <td>853.555534</td>\n",
              "      <td>370.0</td>\n",
              "      <td>1200.000000</td>\n",
              "      <td>1600.00</td>\n",
              "      <td>2300.75</td>\n",
              "      <td>9410.0</td>\n",
              "      <td>0.000000</td>\n",
              "      <td>0.304910</td>\n",
              "      <td>0.304910</td>\n",
              "    </tr>\n",
              "    <tr>\n",
              "      <th>1</th>\n",
              "      <td>bathrooms</td>\n",
              "      <td>3220.0</td>\n",
              "      <td>2.169255</td>\n",
              "      <td>0.772937</td>\n",
              "      <td>0.0</td>\n",
              "      <td>1.750000</td>\n",
              "      <td>2.25</td>\n",
              "      <td>2.50</td>\n",
              "      <td>8.0</td>\n",
              "      <td>0.000000</td>\n",
              "      <td>0.277816</td>\n",
              "      <td>0.277816</td>\n",
              "    </tr>\n",
              "    <tr>\n",
              "      <th>11</th>\n",
              "      <td>view</td>\n",
              "      <td>3220.0</td>\n",
              "      <td>0.240994</td>\n",
              "      <td>0.777716</td>\n",
              "      <td>0.0</td>\n",
              "      <td>0.000000</td>\n",
              "      <td>0.00</td>\n",
              "      <td>0.00</td>\n",
              "      <td>4.0</td>\n",
              "      <td>0.000000</td>\n",
              "      <td>0.191981</td>\n",
              "      <td>0.191981</td>\n",
              "    </tr>\n",
              "    <tr>\n",
              "      <th>8</th>\n",
              "      <td>sqft_basement</td>\n",
              "      <td>3220.0</td>\n",
              "      <td>315.052484</td>\n",
              "      <td>466.482374</td>\n",
              "      <td>0.0</td>\n",
              "      <td>0.000000</td>\n",
              "      <td>0.00</td>\n",
              "      <td>620.00</td>\n",
              "      <td>4820.0</td>\n",
              "      <td>0.000000</td>\n",
              "      <td>0.167796</td>\n",
              "      <td>0.167796</td>\n",
              "    </tr>\n",
              "    <tr>\n",
              "      <th>5</th>\n",
              "      <td>bedrooms</td>\n",
              "      <td>3220.0</td>\n",
              "      <td>3.411801</td>\n",
              "      <td>0.908000</td>\n",
              "      <td>0.0</td>\n",
              "      <td>3.000000</td>\n",
              "      <td>3.00</td>\n",
              "      <td>4.00</td>\n",
              "      <td>9.0</td>\n",
              "      <td>0.000000</td>\n",
              "      <td>0.160660</td>\n",
              "      <td>0.160660</td>\n",
              "    </tr>\n",
              "    <tr>\n",
              "      <th>3</th>\n",
              "      <td>floors</td>\n",
              "      <td>3220.0</td>\n",
              "      <td>1.510870</td>\n",
              "      <td>0.539988</td>\n",
              "      <td>1.0</td>\n",
              "      <td>1.000000</td>\n",
              "      <td>1.50</td>\n",
              "      <td>2.00</td>\n",
              "      <td>3.5</td>\n",
              "      <td>0.000000</td>\n",
              "      <td>0.122128</td>\n",
              "      <td>0.122128</td>\n",
              "    </tr>\n",
              "    <tr>\n",
              "      <th>10</th>\n",
              "      <td>waterfront</td>\n",
              "      <td>3220.0</td>\n",
              "      <td>0.006522</td>\n",
              "      <td>0.080506</td>\n",
              "      <td>0.0</td>\n",
              "      <td>0.000000</td>\n",
              "      <td>0.00</td>\n",
              "      <td>0.00</td>\n",
              "      <td>1.0</td>\n",
              "      <td>0.000000</td>\n",
              "      <td>0.089515</td>\n",
              "      <td>0.089515</td>\n",
              "    </tr>\n",
              "    <tr>\n",
              "      <th>7</th>\n",
              "      <td>sqft_lot</td>\n",
              "      <td>3220.0</td>\n",
              "      <td>15021.657764</td>\n",
              "      <td>33898.239766</td>\n",
              "      <td>638.0</td>\n",
              "      <td>5040.000000</td>\n",
              "      <td>7730.00</td>\n",
              "      <td>11071.25</td>\n",
              "      <td>641203.0</td>\n",
              "      <td>0.000000</td>\n",
              "      <td>0.045688</td>\n",
              "      <td>0.045688</td>\n",
              "    </tr>\n",
              "    <tr>\n",
              "      <th>4</th>\n",
              "      <td>condition</td>\n",
              "      <td>3220.0</td>\n",
              "      <td>3.456832</td>\n",
              "      <td>0.682402</td>\n",
              "      <td>1.0</td>\n",
              "      <td>3.000000</td>\n",
              "      <td>3.00</td>\n",
              "      <td>4.00</td>\n",
              "      <td>5.0</td>\n",
              "      <td>0.000000</td>\n",
              "      <td>0.030125</td>\n",
              "      <td>0.030125</td>\n",
              "    </tr>\n",
              "    <tr>\n",
              "      <th>0</th>\n",
              "      <td>ant_renovated</td>\n",
              "      <td>1304.0</td>\n",
              "      <td>19.449387</td>\n",
              "      <td>21.469081</td>\n",
              "      <td>0.0</td>\n",
              "      <td>8.000000</td>\n",
              "      <td>13.00</td>\n",
              "      <td>22.00</td>\n",
              "      <td>102.0</td>\n",
              "      <td>0.595031</td>\n",
              "      <td>0.027986</td>\n",
              "      <td>0.027986</td>\n",
              "    </tr>\n",
              "    <tr>\n",
              "      <th>9</th>\n",
              "      <td>ant_built</td>\n",
              "      <td>3220.0</td>\n",
              "      <td>43.188199</td>\n",
              "      <td>29.748077</td>\n",
              "      <td>0.0</td>\n",
              "      <td>17.000000</td>\n",
              "      <td>38.00</td>\n",
              "      <td>63.00</td>\n",
              "      <td>114.0</td>\n",
              "      <td>0.000000</td>\n",
              "      <td>-0.023691</td>\n",
              "      <td>0.023691</td>\n",
              "    </tr>\n",
              "  </tbody>\n",
              "</table>\n",
              "</div>\n",
              "      <button class=\"colab-df-convert\" onclick=\"convertToInteractive('df-98e8accf-f83a-4690-b501-5d6d84009c96')\"\n",
              "              title=\"Convert this dataframe to an interactive table.\"\n",
              "              style=\"display:none;\">\n",
              "        \n",
              "  <svg xmlns=\"http://www.w3.org/2000/svg\" height=\"24px\"viewBox=\"0 0 24 24\"\n",
              "       width=\"24px\">\n",
              "    <path d=\"M0 0h24v24H0V0z\" fill=\"none\"/>\n",
              "    <path d=\"M18.56 5.44l.94 2.06.94-2.06 2.06-.94-2.06-.94-.94-2.06-.94 2.06-2.06.94zm-11 1L8.5 8.5l.94-2.06 2.06-.94-2.06-.94L8.5 2.5l-.94 2.06-2.06.94zm10 10l.94 2.06.94-2.06 2.06-.94-2.06-.94-.94-2.06-.94 2.06-2.06.94z\"/><path d=\"M17.41 7.96l-1.37-1.37c-.4-.4-.92-.59-1.43-.59-.52 0-1.04.2-1.43.59L10.3 9.45l-7.72 7.72c-.78.78-.78 2.05 0 2.83L4 21.41c.39.39.9.59 1.41.59.51 0 1.02-.2 1.41-.59l7.78-7.78 2.81-2.81c.8-.78.8-2.07 0-2.86zM5.41 20L4 18.59l7.72-7.72 1.47 1.35L5.41 20z\"/>\n",
              "  </svg>\n",
              "      </button>\n",
              "      \n",
              "  <style>\n",
              "    .colab-df-container {\n",
              "      display:flex;\n",
              "      flex-wrap:wrap;\n",
              "      gap: 12px;\n",
              "    }\n",
              "\n",
              "    .colab-df-convert {\n",
              "      background-color: #E8F0FE;\n",
              "      border: none;\n",
              "      border-radius: 50%;\n",
              "      cursor: pointer;\n",
              "      display: none;\n",
              "      fill: #1967D2;\n",
              "      height: 32px;\n",
              "      padding: 0 0 0 0;\n",
              "      width: 32px;\n",
              "    }\n",
              "\n",
              "    .colab-df-convert:hover {\n",
              "      background-color: #E2EBFA;\n",
              "      box-shadow: 0px 1px 2px rgba(60, 64, 67, 0.3), 0px 1px 3px 1px rgba(60, 64, 67, 0.15);\n",
              "      fill: #174EA6;\n",
              "    }\n",
              "\n",
              "    [theme=dark] .colab-df-convert {\n",
              "      background-color: #3B4455;\n",
              "      fill: #D2E3FC;\n",
              "    }\n",
              "\n",
              "    [theme=dark] .colab-df-convert:hover {\n",
              "      background-color: #434B5C;\n",
              "      box-shadow: 0px 1px 3px 1px rgba(0, 0, 0, 0.15);\n",
              "      filter: drop-shadow(0px 1px 2px rgba(0, 0, 0, 0.3));\n",
              "      fill: #FFFFFF;\n",
              "    }\n",
              "  </style>\n",
              "\n",
              "      <script>\n",
              "        const buttonEl =\n",
              "          document.querySelector('#df-98e8accf-f83a-4690-b501-5d6d84009c96 button.colab-df-convert');\n",
              "        buttonEl.style.display =\n",
              "          google.colab.kernel.accessAllowed ? 'block' : 'none';\n",
              "\n",
              "        async function convertToInteractive(key) {\n",
              "          const element = document.querySelector('#df-98e8accf-f83a-4690-b501-5d6d84009c96');\n",
              "          const dataTable =\n",
              "            await google.colab.kernel.invokeFunction('convertToInteractive',\n",
              "                                                     [key], {});\n",
              "          if (!dataTable) return;\n",
              "\n",
              "          const docLinkHtml = 'Like what you see? Visit the ' +\n",
              "            '<a target=\"_blank\" href=https://colab.research.google.com/notebooks/data_table.ipynb>data table notebook</a>'\n",
              "            + ' to learn more about interactive tables.';\n",
              "          element.innerHTML = '';\n",
              "          dataTable['output_type'] = 'display_data';\n",
              "          await google.colab.output.renderOutput(dataTable, element);\n",
              "          const docLink = document.createElement('div');\n",
              "          docLink.innerHTML = docLinkHtml;\n",
              "          element.appendChild(docLink);\n",
              "        }\n",
              "      </script>\n",
              "    </div>\n",
              "  </div>\n",
              "  "
            ]
          },
          "metadata": {},
          "execution_count": 55
        }
      ]
    },
    {
      "cell_type": "code",
      "source": [
        "sns.regplot(x = 'sqft_living', y = 'price', data = train.loc[train.price<5000000])"
      ],
      "metadata": {
        "colab": {
          "base_uri": "https://localhost:8080/",
          "height": 308
        },
        "id": "1DSaqx63m_lR",
        "outputId": "0e4228d2-ef7e-4309-a66a-ed570e4fc1d5"
      },
      "execution_count": 58,
      "outputs": [
        {
          "output_type": "execute_result",
          "data": {
            "text/plain": [
              "<AxesSubplot:xlabel='sqft_living', ylabel='price'>"
            ]
          },
          "metadata": {},
          "execution_count": 58
        },
        {
          "output_type": "display_data",
          "data": {
            "text/plain": [
              "<Figure size 432x288 with 1 Axes>"
            ],
            "image/png": "[encoded data removed]"
          },
          "metadata": {
            "needs_background": "light"
          }
        }
      ]
    },
    {
      "cell_type": "markdown",
      "source": [
        "### <b>Pre-selección de variables:</b>\n",
        "En muchos casos, la cantidad de variables que tendremos que evaluar será tanta que deberemos filtrar aquellas que identiquemos con menor potencial para predecir nuestro target.\n",
        "Algunos criterios que podemos tomar, son umbrales de correlación y missing rate.\n",
        "\n",
        "--- \n",
        "\n",
        "Ejemplo:\n",
        "\n",
        "*   Aquellas variables con correlación  < 0.1 se van\n",
        "*   Aquellas variables con missing rate > 0.9 se van\n"
      ],
      "metadata": {
        "id": "csMMETMASr36"
      }
    },
    {
      "cell_type": "code",
      "source": [
        "feature_prefilter = list(set(univariate_II.loc[univariate_II.correl_abs >= 0.1].loc[univariate_II.missing_rate <= 0.9].feature.tolist()) - set([target])) \n"
      ],
      "metadata": {
        "id": "zsmIJEoz9aUI"
      },
      "execution_count": null,
      "outputs": []
    },
    {
      "cell_type": "markdown",
      "source": [
        "## Analizando el target"
      ],
      "metadata": {
        "id": "vxNVWNw6W4CY"
      }
    },
    {
      "cell_type": "code",
      "source": [
        "# Gráfico de distribución \n",
        "sns.displot(pddf.price, kind=\"kde\", fill=True)"
      ],
      "metadata": {
        "id": "2LdWd1niTzL8",
        "colab": {
          "base_uri": "https://localhost:8080/",
          "height": 386
        },
        "outputId": "f64a85b5-328d-4aea-d0d1-aa8f73787d96"
      },
      "execution_count": null,
      "outputs": [
        {
          "output_type": "execute_result",
          "data": {
            "text/plain": [
              "<seaborn.axisgrid.FacetGrid at 0x7f8a73138e20>"
            ]
          },
          "metadata": {},
          "execution_count": 8
        },
        {
          "output_type": "display_data",
          "data": {
            "text/plain": [
              "<Figure size 360x360 with 1 Axes>"
            ],
            "image/png": "[encoded data removed]"
          },
          "metadata": {
            "needs_background": "light"
          }
        }
      ]
    },
    {
      "cell_type": "code",
      "source": [
        "#Boxplot\n",
        "sns.set_theme(style=\"whitegrid\")\n",
        "ax = sns.boxplot(data = pddf.price, orient=\"h\")"
      ],
      "metadata": {
        "id": "QiWGRU-kUBGh",
        "colab": {
          "base_uri": "https://localhost:8080/",
          "height": 281
        },
        "outputId": "d24daa32-3fab-4064-d6ed-f7a09b48c403"
      },
      "execution_count": null,
      "outputs": [
        {
          "output_type": "display_data",
          "data": {
            "text/plain": [
              "<Figure size 432x288 with 1 Axes>"
            ],
            "image/png": "[encoded data removed]"
          },
          "metadata": {}
        }
      ]
    },
    {
      "cell_type": "code",
      "source": [
        "# Tratamiento por z-score\n",
        "upper_limit = np.mean(pddf.price) + 3*np.std(pddf.price)\n",
        "lower_limit = np.mean(pddf.price) - 3*np.std(pddf.price)\n",
        "\n",
        "pddf['price_t'] = pddf.price.apply(lambda x: upper_limit if x > upper_limit\n",
        "                                        else lower_limit if x < lower_limit else x)"
      ],
      "metadata": {
        "id": "5Vuu8TyNVO2f"
      },
      "execution_count": null,
      "outputs": []
    },
    {
      "cell_type": "code",
      "source": [
        "# Gráfico de distribución \n",
        "sns.displot(pddf.price_t, kind=\"kde\", fill=True)"
      ],
      "metadata": {
        "colab": {
          "base_uri": "https://localhost:8080/",
          "height": 382
        },
        "id": "6WE1C-pZWcFR",
        "outputId": "584e23ae-80ba-4364-8396-c8ac70f92d1a"
      },
      "execution_count": null,
      "outputs": [
        {
          "output_type": "execute_result",
          "data": {
            "text/plain": [
              "<seaborn.axisgrid.FacetGrid at 0x7f8a7313df70>"
            ]
          },
          "metadata": {},
          "execution_count": 12
        },
        {
          "output_type": "display_data",
          "data": {
            "text/plain": [
              "<Figure size 360x360 with 1 Axes>"
            ],
            "image/png": "[encoded data removed]"
          },
          "metadata": {}
        }
      ]
    },
    {
      "cell_type": "code",
      "source": [
        "#Boxplot\n",
        "sns.set_theme(style=\"whitegrid\")\n",
        "ax = sns.boxplot(data = pddf.price_t, orient=\"h\")"
      ],
      "metadata": {
        "colab": {
          "base_uri": "https://localhost:8080/",
          "height": 281
        },
        "id": "TEewlTgJWjCy",
        "outputId": "7bbaab1e-5828-4b7c-86c4-a9f287c1b973"
      },
      "execution_count": null,
      "outputs": [
        {
          "output_type": "display_data",
          "data": {
            "text/plain": [
              "<Figure size 432x288 with 1 Axes>"
            ],
            "image/png": "[encoded data removed]"
          },
          "metadata": {}
        }
      ]
    },
    {
      "cell_type": "markdown",
      "source": [
        "## 3. Tratamiento de outliers\n"
      ],
      "metadata": {
        "id": "DaGEONZ3Yl5f"
      }
    },
    {
      "cell_type": "markdown",
      "source": [
        "\n",
        "<img src=\"https://editor.analyticsvidhya.com/uploads/440971.png\" width=\"500\" \n",
        "     height=\"300\" > "
      ],
      "metadata": {
        "id": "SqDKd9B-ZVfT"
      }
    },
    {
      "cell_type": "code",
      "source": [
        "univariate_II.head()\n"
      ],
      "metadata": {
        "id": "FELlMUtNZK_i"
      },
      "execution_count": null,
      "outputs": []
    },
    {
      "cell_type": "code",
      "source": [
        "# Calculando los intervalos Z-score\n",
        "\n",
        "univariate_II['li_zscore'] = univariate_II['mean'] - 3*univariate_II['std']\n",
        "univariate_II['ls_zscore'] = univariate_II['mean'] + 3*univariate_II['std']\n",
        "\n",
        "univariate_II.head() "
      ],
      "metadata": {
        "id": "C4adckOkZi7H"
      },
      "execution_count": null,
      "outputs": []
    },
    {
      "cell_type": "code",
      "source": [
        "# Tratamiento de outliers por Z-score\n",
        "\n",
        "def zscore(dataframe, univariate, featuresToTreat):\n",
        "  for col in featuresToTreat:\n",
        "    desc = univariate.loc[univariate.feature == col]\n",
        "    dataframe[col + '_tzscore'] = dataframe[col].apply(lambda x: desc.ls_zscore.values[0] if x > desc.ls_zscore.values[0]\n",
        "                                                            else desc.li_zscore.values[0] if x < desc.li_zscore.values[0]\n",
        "                                                            else x)\n",
        "  return dataframe\n"
      ],
      "metadata": {
        "id": "VyvQF5rnZvC2"
      },
      "execution_count": null,
      "outputs": []
    },
    {
      "cell_type": "code",
      "source": [
        "train_I = zscore(train, univariate_II, univariate_II.feature.tolist())\n",
        "test_I  = zscore(test,  univariate_II, univariate_II.feature.tolist())"
      ],
      "metadata": {
        "id": "H1dv330OakSA"
      },
      "execution_count": null,
      "outputs": []
    },
    {
      "cell_type": "code",
      "source": [
        "# generación de gráficos\n",
        "\n",
        "sns.set(rc={'figure.figsize':(6, 4)})\n",
        "featuresTograph = [x + '_tzscore' for x in feature_prefilter]\n",
        "i = 0\n",
        "for col in featuresTograph:\n",
        "  i += 1\n",
        "  print(f\"graficando {col} ({i}/{len(featuresTograph)})\")\n",
        "  sns.jointplot(x = col, y = target + '_tzscore', data = train_I.sample(500), kind=\"reg\", truncate=False, color=\"m\", height=7).savefig(f\"graficos/scatter_{col}.jpg\")\n"
      ],
      "metadata": {
        "id": "_oaOYGHja3fL"
      },
      "execution_count": null,
      "outputs": []
    },
    {
      "cell_type": "markdown",
      "source": [
        "## 3. Tratamiento de missigs\n"
      ],
      "metadata": {
        "id": "vY_vjx1ie_Q8"
      }
    },
    {
      "cell_type": "code",
      "source": [
        "train_II = train_I[[x + '_tzscore' for x in feature_prefilter]].fillna(train_I[[x + '_tzscore' for x in feature_prefilter]].mean())\n",
        "test_II  = test_I[[x + '_tzscore' for x in feature_prefilter]].fillna(train_I[[x + '_tzscore' for x in feature_prefilter]].mean())\n"
      ],
      "metadata": {
        "id": "4PB3jee_fVlH"
      },
      "execution_count": null,
      "outputs": []
    },
    {
      "cell_type": "markdown",
      "source": [
        "4. Estandarización"
      ],
      "metadata": {
        "id": "dMo8hcCihW0p"
      }
    },
    {
      "cell_type": "code",
      "source": [
        "train_III = (train_II - train_II.mean())/train_II.std()\n",
        "test_III = (test_II - train_II.mean())/train_II.std()\n"
      ],
      "metadata": {
        "id": "h97JbaShhZWV"
      },
      "execution_count": null,
      "outputs": []
    },
    {
      "cell_type": "markdown",
      "source": [
        "## 5. Modelo de regresión lineal"
      ],
      "metadata": {
        "id": "RJWKVUuVgQZi"
      }
    },
    {
      "cell_type": "code",
      "source": [
        "train_III"
      ],
      "metadata": {
        "id": "BirJNPzPiJTs"
      },
      "execution_count": null,
      "outputs": []
    },
    {
      "cell_type": "code",
      "source": [
        "import statsmodels.api as sm\n",
        "\n",
        "# Fit and summarize OLS model\n",
        "mod = sm.OLS(train_I[[target + '_tzscore']], \n",
        "             sm.add_constant(train_III))\n",
        "res = mod.fit()\n",
        "print(res.summary())\n"
      ],
      "metadata": {
        "colab": {
          "base_uri": "https://localhost:8080/"
        },
        "id": "RJgq8SlxbGF_",
        "outputId": "00d150fa-2f40-4e32-b490-834386310af2"
      },
      "execution_count": null,
      "outputs": [
        {
          "output_type": "stream",
          "name": "stdout",
          "text": [
            "                            OLS Regression Results                            \n",
            "==============================================================================\n",
            "Dep. Variable:          price_tzscore   R-squared:                       0.457\n",
            "Model:                            OLS   Adj. R-squared:                  0.455\n",
            "Method:                 Least Squares   F-statistic:                     385.6\n",
            "Date:                Sun, 19 Feb 2023   Prob (F-statistic):               0.00\n",
            "Time:                        16:39:46   Log-Likelihood:                -44562.\n",
            "No. Observations:                3220   AIC:                         8.914e+04\n",
            "Df Residuals:                    3212   BIC:                         8.919e+04\n",
            "Df Model:                           7                                         \n",
            "Covariance Type:            nonrobust                                         \n",
            "=========================================================================================\n",
            "                            coef    std err          t      P>|t|      [0.025      0.975]\n",
            "-----------------------------------------------------------------------------------------\n",
            "const                  5.408e+05   4371.639    123.714      0.000    5.32e+05    5.49e+05\n",
            "sqft_above_tzscore     2.242e+05   5.23e+04      4.285      0.000    1.22e+05    3.27e+05\n",
            "bedrooms_tzscore      -3.743e+04   5643.296     -6.632      0.000   -4.85e+04   -2.64e+04\n",
            "sqft_basement_tzscore   1.28e+05   2.85e+04      4.489      0.000    7.21e+04    1.84e+05\n",
            "view_tzscore           5.859e+04   4685.473     12.506      0.000    4.94e+04    6.78e+04\n",
            "bathrooms_tzscore       314.7185   7273.638      0.043      0.965   -1.39e+04    1.46e+04\n",
            "sqft_living_tzscore    -2.85e+04   5.62e+04     -0.507      0.612   -1.39e+05    8.17e+04\n",
            "floors_tzscore         1.901e+04   5803.005      3.276      0.001    7633.106    3.04e+04\n",
            "==============================================================================\n",
            "Omnibus:                     1051.735   Durbin-Watson:                   1.987\n",
            "Prob(Omnibus):                  0.000   Jarque-Bera (JB):            10771.250\n",
            "Skew:                           1.249   Prob(JB):                         0.00\n",
            "Kurtosis:                      11.605   Cond. No.                         34.1\n",
            "==============================================================================\n",
            "\n",
            "Notes:\n",
            "[1] Standard Errors assume that the covariance matrix of the errors is correctly specified.\n"
          ]
        },
        {
          "output_type": "stream",
          "name": "stderr",
          "text": [
            "/usr/local/lib/python3.8/dist-packages/statsmodels/tsa/tsatools.py:142: FutureWarning: In a future version of pandas all arguments of concat except for the argument 'objs' will be keyword-only\n",
            "  x = pd.concat(x[::order], 1)\n"
          ]
        }
      ]
    },
    {
      "cell_type": "code",
      "source": [
        "variables_mod = list(set(train_III.columns.tolist()) - set(['bathrooms_tzscore', 'sqft_living_tzscore']))\n",
        "\n",
        "# Fit and summarize OLS model\n",
        "mod = sm.OLS(train_I[[target + '_tzscore']], sm.add_constant(train_III[variables_mod]))\n",
        "res = mod.fit()\n",
        "print(res.summary())\n"
      ],
      "metadata": {
        "colab": {
          "base_uri": "https://localhost:8080/"
        },
        "id": "z-YEookabWBq",
        "outputId": "391fc25f-2d1d-4491-c6f5-1490b709b2e9"
      },
      "execution_count": null,
      "outputs": [
        {
          "output_type": "stream",
          "name": "stdout",
          "text": [
            "                            OLS Regression Results                            \n",
            "==============================================================================\n",
            "Dep. Variable:          price_tzscore   R-squared:                       0.457\n",
            "Model:                            OLS   Adj. R-squared:                  0.456\n",
            "Method:                 Least Squares   F-statistic:                     540.2\n",
            "Date:                Sun, 19 Feb 2023   Prob (F-statistic):               0.00\n",
            "Time:                        16:42:23   Log-Likelihood:                -44562.\n",
            "No. Observations:                3220   AIC:                         8.914e+04\n",
            "Df Residuals:                    3214   BIC:                         8.917e+04\n",
            "Df Model:                           5                                         \n",
            "Covariance Type:            nonrobust                                         \n",
            "=========================================================================================\n",
            "                            coef    std err          t      P>|t|      [0.025      0.975]\n",
            "-----------------------------------------------------------------------------------------\n",
            "const                  5.408e+05   4370.454    123.748      0.000    5.32e+05    5.49e+05\n",
            "sqft_above_tzscore      1.98e+05   5996.891     33.015      0.000    1.86e+05     2.1e+05\n",
            "view_tzscore           5.862e+04   4683.238     12.516      0.000    4.94e+04    6.78e+04\n",
            "floors_tzscore          1.92e+04   5347.010      3.590      0.000    8713.489    2.97e+04\n",
            "bedrooms_tzscore      -3.743e+04   5538.808     -6.757      0.000   -4.83e+04   -2.66e+04\n",
            "sqft_basement_tzscore  1.139e+05   5323.690     21.395      0.000    1.03e+05    1.24e+05\n",
            "==============================================================================\n",
            "Omnibus:                     1050.521   Durbin-Watson:                   1.987\n",
            "Prob(Omnibus):                  0.000   Jarque-Bera (JB):            10738.324\n",
            "Skew:                           1.248   Prob(JB):                         0.00\n",
            "Kurtosis:                      11.591   Cond. No.                         2.39\n",
            "==============================================================================\n",
            "\n",
            "Notes:\n",
            "[1] Standard Errors assume that the covariance matrix of the errors is correctly specified.\n"
          ]
        },
        {
          "output_type": "stream",
          "name": "stderr",
          "text": [
            "/usr/local/lib/python3.8/dist-packages/statsmodels/tsa/tsatools.py:142: FutureWarning: In a future version of pandas all arguments of concat except for the argument 'objs' will be keyword-only\n",
            "  x = pd.concat(x[::order], 1)\n"
          ]
        }
      ]
    },
    {
      "cell_type": "code",
      "source": [
        "variables_mod = list(set(train_III.columns.tolist()) - set(['bathrooms_tzscore', 'sqft_living_tzscore', 'bedrooms_tzscore']))\n",
        "\n",
        "# Fit and summarize OLS model\n",
        "mod = sm.OLS(train_I[[target + '_tzscore']], sm.add_constant(train_III[variables_mod]))\n",
        "res = mod.fit()\n",
        "print(res.summary())\n"
      ],
      "metadata": {
        "colab": {
          "base_uri": "https://localhost:8080/"
        },
        "id": "gL85v_BEi42K",
        "outputId": "a82ac9b9-86c2-450a-eca5-ff5e5b21377d"
      },
      "execution_count": null,
      "outputs": [
        {
          "output_type": "stream",
          "name": "stdout",
          "text": [
            "                            OLS Regression Results                            \n",
            "==============================================================================\n",
            "Dep. Variable:          price_tzscore   R-squared:                       0.449\n",
            "Model:                            OLS   Adj. R-squared:                  0.448\n",
            "Method:                 Least Squares   F-statistic:                     654.7\n",
            "Date:                Sun, 19 Feb 2023   Prob (F-statistic):               0.00\n",
            "Time:                        16:55:45   Log-Likelihood:                -44585.\n",
            "No. Observations:                3220   AIC:                         8.918e+04\n",
            "Df Residuals:                    3215   BIC:                         8.921e+04\n",
            "Df Model:                           4                                         \n",
            "Covariance Type:            nonrobust                                         \n",
            "=========================================================================================\n",
            "                            coef    std err          t      P>|t|      [0.025      0.975]\n",
            "-----------------------------------------------------------------------------------------\n",
            "const                  5.408e+05   4400.703    122.897      0.000    5.32e+05    5.49e+05\n",
            "sqft_above_tzscore      1.78e+05   5250.486     33.897      0.000    1.68e+05    1.88e+05\n",
            "view_tzscore            6.24e+04   4681.840     13.328      0.000    5.32e+04    7.16e+04\n",
            "sqft_basement_tzscore  9.834e+04   4833.398     20.347      0.000    8.89e+04    1.08e+05\n",
            "floors_tzscore         1.926e+04   5384.010      3.577      0.000    8700.176    2.98e+04\n",
            "==============================================================================\n",
            "Omnibus:                     1034.410   Durbin-Watson:                   1.984\n",
            "Prob(Omnibus):                  0.000   Jarque-Bera (JB):            10116.178\n",
            "Skew:                           1.238   Prob(JB):                         0.00\n",
            "Kurtosis:                      11.323   Cond. No.                         1.94\n",
            "==============================================================================\n",
            "\n",
            "Notes:\n",
            "[1] Standard Errors assume that the covariance matrix of the errors is correctly specified.\n"
          ]
        },
        {
          "output_type": "stream",
          "name": "stderr",
          "text": [
            "/usr/local/lib/python3.8/dist-packages/statsmodels/tsa/tsatools.py:142: FutureWarning: In a future version of pandas all arguments of concat except for the argument 'objs' will be keyword-only\n",
            "  x = pd.concat(x[::order], 1)\n"
          ]
        }
      ]
    },
    {
      "cell_type": "code",
      "source": [
        "modelo = pd.DataFrame({'coeficiente' : res.params})\n",
        "modelo.reset_index(inplace = True)\n",
        "modelo.rename(columns = {'index': 'feature'}, inplace = True)\n",
        "modelo = modelo.loc[modelo.feature != 'const']\n",
        "modelo['peso'] = modelo.coeficiente/modelo.coeficiente.sum()\n",
        "modelo.sort_values(by = 'peso', ascending = False, inplace = True)\n",
        "modelo\n"
      ],
      "metadata": {
        "colab": {
          "base_uri": "https://localhost:8080/",
          "height": 175
        },
        "id": "5lSO1qY-k3uQ",
        "outputId": "058dbb27-f50f-43da-fa1c-7a3854f913b3"
      },
      "execution_count": null,
      "outputs": [
        {
          "output_type": "execute_result",
          "data": {
            "text/plain": [
              "                 feature    coeficiente      peso\n",
              "1     sqft_above_tzscore  177975.504038  0.497172\n",
              "3  sqft_basement_tzscore   98344.739467  0.274725\n",
              "2           view_tzscore   62398.625011  0.174310\n",
              "4         floors_tzscore   19256.615734  0.053793"
            ],
            "text/html": [
              "\n",
              "  <div id=\"df-b6fb4e2f-c4c7-4ee1-8e93-bfd28eab0654\">\n",
              "    <div class=\"colab-df-container\">\n",
              "      <div>\n",
              "<style scoped>\n",
              "    .dataframe tbody tr th:only-of-type {\n",
              "        vertical-align: middle;\n",
              "    }\n",
              "\n",
              "    .dataframe tbody tr th {\n",
              "        vertical-align: top;\n",
              "    }\n",
              "\n",
              "    .dataframe thead th {\n",
              "        text-align: right;\n",
              "    }\n",
              "</style>\n",
              "<table border=\"1\" class=\"dataframe\">\n",
              "  <thead>\n",
              "    <tr style=\"text-align: right;\">\n",
              "      <th></th>\n",
              "      <th>feature</th>\n",
              "      <th>coeficiente</th>\n",
              "      <th>peso</th>\n",
              "    </tr>\n",
              "  </thead>\n",
              "  <tbody>\n",
              "    <tr>\n",
              "      <th>1</th>\n",
              "      <td>sqft_above_tzscore</td>\n",
              "      <td>177975.504038</td>\n",
              "      <td>0.497172</td>\n",
              "    </tr>\n",
              "    <tr>\n",
              "      <th>3</th>\n",
              "      <td>sqft_basement_tzscore</td>\n",
              "      <td>98344.739467</td>\n",
              "      <td>0.274725</td>\n",
              "    </tr>\n",
              "    <tr>\n",
              "      <th>2</th>\n",
              "      <td>view_tzscore</td>\n",
              "      <td>62398.625011</td>\n",
              "      <td>0.174310</td>\n",
              "    </tr>\n",
              "    <tr>\n",
              "      <th>4</th>\n",
              "      <td>floors_tzscore</td>\n",
              "      <td>19256.615734</td>\n",
              "      <td>0.053793</td>\n",
              "    </tr>\n",
              "  </tbody>\n",
              "</table>\n",
              "</div>\n",
              "      <button class=\"colab-df-convert\" onclick=\"convertToInteractive('df-b6fb4e2f-c4c7-4ee1-8e93-bfd28eab0654')\"\n",
              "              title=\"Convert this dataframe to an interactive table.\"\n",
              "              style=\"display:none;\">\n",
              "        \n",
              "  <svg xmlns=\"http://www.w3.org/2000/svg\" height=\"24px\"viewBox=\"0 0 24 24\"\n",
              "       width=\"24px\">\n",
              "    <path d=\"M0 0h24v24H0V0z\" fill=\"none\"/>\n",
              "    <path d=\"M18.56 5.44l.94 2.06.94-2.06 2.06-.94-2.06-.94-.94-2.06-.94 2.06-2.06.94zm-11 1L8.5 8.5l.94-2.06 2.06-.94-2.06-.94L8.5 2.5l-.94 2.06-2.06.94zm10 10l.94 2.06.94-2.06 2.06-.94-2.06-.94-.94-2.06-.94 2.06-2.06.94z\"/><path d=\"M17.41 7.96l-1.37-1.37c-.4-.4-.92-.59-1.43-.59-.52 0-1.04.2-1.43.59L10.3 9.45l-7.72 7.72c-.78.78-.78 2.05 0 2.83L4 21.41c.39.39.9.59 1.41.59.51 0 1.02-.2 1.41-.59l7.78-7.78 2.81-2.81c.8-.78.8-2.07 0-2.86zM5.41 20L4 18.59l7.72-7.72 1.47 1.35L5.41 20z\"/>\n",
              "  </svg>\n",
              "      </button>\n",
              "      \n",
              "  <style>\n",
              "    .colab-df-container {\n",
              "      display:flex;\n",
              "      flex-wrap:wrap;\n",
              "      gap: 12px;\n",
              "    }\n",
              "\n",
              "    .colab-df-convert {\n",
              "      background-color: #E8F0FE;\n",
              "      border: none;\n",
              "      border-radius: 50%;\n",
              "      cursor: pointer;\n",
              "      display: none;\n",
              "      fill: #1967D2;\n",
              "      height: 32px;\n",
              "      padding: 0 0 0 0;\n",
              "      width: 32px;\n",
              "    }\n",
              "\n",
              "    .colab-df-convert:hover {\n",
              "      background-color: #E2EBFA;\n",
              "      box-shadow: 0px 1px 2px rgba(60, 64, 67, 0.3), 0px 1px 3px 1px rgba(60, 64, 67, 0.15);\n",
              "      fill: #174EA6;\n",
              "    }\n",
              "\n",
              "    [theme=dark] .colab-df-convert {\n",
              "      background-color: #3B4455;\n",
              "      fill: #D2E3FC;\n",
              "    }\n",
              "\n",
              "    [theme=dark] .colab-df-convert:hover {\n",
              "      background-color: #434B5C;\n",
              "      box-shadow: 0px 1px 3px 1px rgba(0, 0, 0, 0.15);\n",
              "      filter: drop-shadow(0px 1px 2px rgba(0, 0, 0, 0.3));\n",
              "      fill: #FFFFFF;\n",
              "    }\n",
              "  </style>\n",
              "\n",
              "      <script>\n",
              "        const buttonEl =\n",
              "          document.querySelector('#df-b6fb4e2f-c4c7-4ee1-8e93-bfd28eab0654 button.colab-df-convert');\n",
              "        buttonEl.style.display =\n",
              "          google.colab.kernel.accessAllowed ? 'block' : 'none';\n",
              "\n",
              "        async function convertToInteractive(key) {\n",
              "          const element = document.querySelector('#df-b6fb4e2f-c4c7-4ee1-8e93-bfd28eab0654');\n",
              "          const dataTable =\n",
              "            await google.colab.kernel.invokeFunction('convertToInteractive',\n",
              "                                                     [key], {});\n",
              "          if (!dataTable) return;\n",
              "\n",
              "          const docLinkHtml = 'Like what you see? Visit the ' +\n",
              "            '<a target=\"_blank\" href=https://colab.research.google.com/notebooks/data_table.ipynb>data table notebook</a>'\n",
              "            + ' to learn more about interactive tables.';\n",
              "          element.innerHTML = '';\n",
              "          dataTable['output_type'] = 'display_data';\n",
              "          await google.colab.output.renderOutput(dataTable, element);\n",
              "          const docLink = document.createElement('div');\n",
              "          docLink.innerHTML = docLinkHtml;\n",
              "          element.appendChild(docLink);\n",
              "        }\n",
              "      </script>\n",
              "    </div>\n",
              "  </div>\n",
              "  "
            ]
          },
          "metadata": {},
          "execution_count": 182
        }
      ]
    },
    {
      "cell_type": "markdown",
      "source": [
        "## 6. Control de correlaciones"
      ],
      "metadata": {
        "id": "zfjcJ5a2khIK"
      }
    },
    {
      "cell_type": "code",
      "source": [
        "train_III[variables_mod].corr()"
      ],
      "metadata": {
        "colab": {
          "base_uri": "https://localhost:8080/",
          "height": 175
        },
        "id": "luRtH-xAkn9K",
        "outputId": "9f27d59b-e099-4a55-8551-d01c71bfda81"
      },
      "execution_count": null,
      "outputs": [
        {
          "output_type": "execute_result",
          "data": {
            "text/plain": [
              "                       sqft_above_tzscore  view_tzscore  \\\n",
              "sqft_above_tzscore               1.000000      0.136061   \n",
              "view_tzscore                     0.136061      1.000000   \n",
              "sqft_basement_tzscore           -0.116494      0.294443   \n",
              "floors_tzscore                   0.529192      0.009110   \n",
              "\n",
              "                       sqft_basement_tzscore  floors_tzscore  \n",
              "sqft_above_tzscore                 -0.116494        0.529192  \n",
              "view_tzscore                        0.294443        0.009110  \n",
              "sqft_basement_tzscore               1.000000       -0.287233  \n",
              "floors_tzscore                     -0.287233        1.000000  "
            ],
            "text/html": [
              "\n",
              "  <div id=\"df-79b5fbae-e00f-4335-b0f0-14067c5db930\">\n",
              "    <div class=\"colab-df-container\">\n",
              "      <div>\n",
              "<style scoped>\n",
              "    .dataframe tbody tr th:only-of-type {\n",
              "        vertical-align: middle;\n",
              "    }\n",
              "\n",
              "    .dataframe tbody tr th {\n",
              "        vertical-align: top;\n",
              "    }\n",
              "\n",
              "    .dataframe thead th {\n",
              "        text-align: right;\n",
              "    }\n",
              "</style>\n",
              "<table border=\"1\" class=\"dataframe\">\n",
              "  <thead>\n",
              "    <tr style=\"text-align: right;\">\n",
              "      <th></th>\n",
              "      <th>sqft_above_tzscore</th>\n",
              "      <th>view_tzscore</th>\n",
              "      <th>sqft_basement_tzscore</th>\n",
              "      <th>floors_tzscore</th>\n",
              "    </tr>\n",
              "  </thead>\n",
              "  <tbody>\n",
              "    <tr>\n",
              "      <th>sqft_above_tzscore</th>\n",
              "      <td>1.000000</td>\n",
              "      <td>0.136061</td>\n",
              "      <td>-0.116494</td>\n",
              "      <td>0.529192</td>\n",
              "    </tr>\n",
              "    <tr>\n",
              "      <th>view_tzscore</th>\n",
              "      <td>0.136061</td>\n",
              "      <td>1.000000</td>\n",
              "      <td>0.294443</td>\n",
              "      <td>0.009110</td>\n",
              "    </tr>\n",
              "    <tr>\n",
              "      <th>sqft_basement_tzscore</th>\n",
              "      <td>-0.116494</td>\n",
              "      <td>0.294443</td>\n",
              "      <td>1.000000</td>\n",
              "      <td>-0.287233</td>\n",
              "    </tr>\n",
              "    <tr>\n",
              "      <th>floors_tzscore</th>\n",
              "      <td>0.529192</td>\n",
              "      <td>0.009110</td>\n",
              "      <td>-0.287233</td>\n",
              "      <td>1.000000</td>\n",
              "    </tr>\n",
              "  </tbody>\n",
              "</table>\n",
              "</div>\n",
              "      <button class=\"colab-df-convert\" onclick=\"convertToInteractive('df-79b5fbae-e00f-4335-b0f0-14067c5db930')\"\n",
              "              title=\"Convert this dataframe to an interactive table.\"\n",
              "              style=\"display:none;\">\n",
              "        \n",
              "  <svg xmlns=\"http://www.w3.org/2000/svg\" height=\"24px\"viewBox=\"0 0 24 24\"\n",
              "       width=\"24px\">\n",
              "    <path d=\"M0 0h24v24H0V0z\" fill=\"none\"/>\n",
              "    <path d=\"M18.56 5.44l.94 2.06.94-2.06 2.06-.94-2.06-.94-.94-2.06-.94 2.06-2.06.94zm-11 1L8.5 8.5l.94-2.06 2.06-.94-2.06-.94L8.5 2.5l-.94 2.06-2.06.94zm10 10l.94 2.06.94-2.06 2.06-.94-2.06-.94-.94-2.06-.94 2.06-2.06.94z\"/><path d=\"M17.41 7.96l-1.37-1.37c-.4-.4-.92-.59-1.43-.59-.52 0-1.04.2-1.43.59L10.3 9.45l-7.72 7.72c-.78.78-.78 2.05 0 2.83L4 21.41c.39.39.9.59 1.41.59.51 0 1.02-.2 1.41-.59l7.78-7.78 2.81-2.81c.8-.78.8-2.07 0-2.86zM5.41 20L4 18.59l7.72-7.72 1.47 1.35L5.41 20z\"/>\n",
              "  </svg>\n",
              "      </button>\n",
              "      \n",
              "  <style>\n",
              "    .colab-df-container {\n",
              "      display:flex;\n",
              "      flex-wrap:wrap;\n",
              "      gap: 12px;\n",
              "    }\n",
              "\n",
              "    .colab-df-convert {\n",
              "      background-color: #E8F0FE;\n",
              "      border: none;\n",
              "      border-radius: 50%;\n",
              "      cursor: pointer;\n",
              "      display: none;\n",
              "      fill: #1967D2;\n",
              "      height: 32px;\n",
              "      padding: 0 0 0 0;\n",
              "      width: 32px;\n",
              "    }\n",
              "\n",
              "    .colab-df-convert:hover {\n",
              "      background-color: #E2EBFA;\n",
              "      box-shadow: 0px 1px 2px rgba(60, 64, 67, 0.3), 0px 1px 3px 1px rgba(60, 64, 67, 0.15);\n",
              "      fill: #174EA6;\n",
              "    }\n",
              "\n",
              "    [theme=dark] .colab-df-convert {\n",
              "      background-color: #3B4455;\n",
              "      fill: #D2E3FC;\n",
              "    }\n",
              "\n",
              "    [theme=dark] .colab-df-convert:hover {\n",
              "      background-color: #434B5C;\n",
              "      box-shadow: 0px 1px 3px 1px rgba(0, 0, 0, 0.15);\n",
              "      filter: drop-shadow(0px 1px 2px rgba(0, 0, 0, 0.3));\n",
              "      fill: #FFFFFF;\n",
              "    }\n",
              "  </style>\n",
              "\n",
              "      <script>\n",
              "        const buttonEl =\n",
              "          document.querySelector('#df-79b5fbae-e00f-4335-b0f0-14067c5db930 button.colab-df-convert');\n",
              "        buttonEl.style.display =\n",
              "          google.colab.kernel.accessAllowed ? 'block' : 'none';\n",
              "\n",
              "        async function convertToInteractive(key) {\n",
              "          const element = document.querySelector('#df-79b5fbae-e00f-4335-b0f0-14067c5db930');\n",
              "          const dataTable =\n",
              "            await google.colab.kernel.invokeFunction('convertToInteractive',\n",
              "                                                     [key], {});\n",
              "          if (!dataTable) return;\n",
              "\n",
              "          const docLinkHtml = 'Like what you see? Visit the ' +\n",
              "            '<a target=\"_blank\" href=https://colab.research.google.com/notebooks/data_table.ipynb>data table notebook</a>'\n",
              "            + ' to learn more about interactive tables.';\n",
              "          element.innerHTML = '';\n",
              "          dataTable['output_type'] = 'display_data';\n",
              "          await google.colab.output.renderOutput(dataTable, element);\n",
              "          const docLink = document.createElement('div');\n",
              "          docLink.innerHTML = docLinkHtml;\n",
              "          element.appendChild(docLink);\n",
              "        }\n",
              "      </script>\n",
              "    </div>\n",
              "  </div>\n",
              "  "
            ]
          },
          "metadata": {},
          "execution_count": 170
        }
      ]
    },
    {
      "cell_type": "markdown",
      "source": [
        "## 7. Evaluación en test"
      ],
      "metadata": {
        "id": "-6KpfG5MmZVG"
      }
    },
    {
      "cell_type": "code",
      "source": [
        "train_III[variables_mod]"
      ],
      "metadata": {
        "id": "8Xbwp8F4mqha"
      },
      "execution_count": null,
      "outputs": []
    },
    {
      "cell_type": "code",
      "source": [
        "train_VI = sm.add_constant(train_III[variables_mod])\n",
        "test_VI = sm.add_constant(test_III[variables_mod])\n",
        "\n",
        "train_VI['prediction'] = res.predict(train_VI)\n",
        "test_VI['prediction'] = res.predict(test_VI)\n",
        "\n",
        "train_VI[target + '_tzscore'] = train_I[[target + '_tzscore']]\n",
        "test_VI[target + '_tzscore'] = test_I[[target + '_tzscore']]\n"
      ],
      "metadata": {
        "colab": {
          "base_uri": "https://localhost:8080/"
        },
        "id": "6k_HnAYvmcv0",
        "outputId": "a88c7915-8246-4f14-d5a0-8476b5440f96"
      },
      "execution_count": null,
      "outputs": [
        {
          "output_type": "stream",
          "name": "stderr",
          "text": [
            "/usr/local/lib/python3.8/dist-packages/statsmodels/tsa/tsatools.py:142: FutureWarning: In a future version of pandas all arguments of concat except for the argument 'objs' will be keyword-only\n",
            "  x = pd.concat(x[::order], 1)\n"
          ]
        }
      ]
    },
    {
      "cell_type": "code",
      "source": [
        "from sklearn.metrics import r2_score"
      ],
      "metadata": {
        "id": "zyRhdc7KnxX_"
      },
      "execution_count": null,
      "outputs": []
    },
    {
      "cell_type": "code",
      "source": [
        "\n",
        "print(f'R2 en train: {r2_score(train_VI[target + \"_tzscore\"], train_VI.prediction)}')\n",
        "print(f'R2 en test:  {r2_score(test_VI[target + \"_tzscore\"], test_VI.prediction)}')\n"
      ],
      "metadata": {
        "colab": {
          "base_uri": "https://localhost:8080/"
        },
        "id": "yUbNSi8VnQ-v",
        "outputId": "1127bdfa-41ce-4c31-dfb8-e6e59732d17b"
      },
      "execution_count": null,
      "outputs": [
        {
          "output_type": "stream",
          "name": "stdout",
          "text": [
            "R2 en train: 0.4488939611179431\n",
            "R2 en test:  0.48768660809391395\n"
          ]
        }
      ]
    }
  ]
}